{
  "nbformat": 4,
  "nbformat_minor": 0,
  "metadata": {
    "colab": {
      "provenance": [],
      "authorship_tag": "ABX9TyOPxgwmNWMO+bQfJSIGHuNw"
    },
    "kernelspec": {
      "name": "python3",
      "display_name": "Python 3"
    },
    "language_info": {
      "name": "python"
    }
  },
  "cells": [
    {
      "cell_type": "code",
      "execution_count": 1,
      "metadata": {
        "id": "nJHh317zVr2-",
        "outputId": "bc75e9dc-30df-450b-fd37-405d629113c0",
        "colab": {
          "base_uri": "https://localhost:8080/"
        }
      },
      "outputs": [
        {
          "output_type": "stream",
          "name": "stdout",
          "text": [
            "b'{\"fault\":{\"faultstring\":\"Unable to identify proxy for host: secure and url: \\\\/v1\\\\/listings\",\"detail\":{\"errorcode\":\"messaging.adaptors.http.flow.ApplicationNotFound\"}}}'\n"
          ]
        }
      ],
      "source": [
        "import requests\n",
        "\n",
        "curl \"https://api.lightboxre.com/v1/parcels/us/02034UK8D0FPUGRCMY8L76\" -H \"x-api-key: <authentication token>\"\n",
        "\n",
        "# Set up the API endpoint and request parameters\n",
        "endpoint = 'https://api.lightboxre.com/v1/parcels/us/02034UK8D0FPUGRCMY8L76'\n",
        "params = {\n",
        "}\n",
        "\n",
        "# Set up the authentication headers\n",
        "headers = {\n",
        "    'Authorization': 'Bearer YOUR_API_KEY_HERE'\n",
        "}\n",
        "\n",
        "# Make the API request\n",
        "response = requests.get(endpoint, headers=headers)\n",
        "\n",
        "# Print the response content\n",
        "print(response.content)\n"
      ]
    },
    {
      "cell_type": "code",
      "source": [],
      "metadata": {
        "id": "Gbh7_-6uhBo1"
      },
      "execution_count": null,
      "outputs": []
    }
  ]
}